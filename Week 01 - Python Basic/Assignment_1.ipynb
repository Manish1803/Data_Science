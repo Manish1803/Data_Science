{
  "nbformat": 4,
  "nbformat_minor": 0,
  "metadata": {
    "colab": {
      "provenance": []
    },
    "kernelspec": {
      "name": "python3",
      "display_name": "Python 3"
    },
    "language_info": {
      "name": "python"
    }
  },
  "cells": [
    {
      "cell_type": "markdown",
      "source": [
        "Q1. Create one variable containing following type of data:"
      ],
      "metadata": {
        "id": "9LWALx55dNxD"
      }
    },
    {
      "cell_type": "code",
      "execution_count": 1,
      "metadata": {
        "id": "H40kk5fbdMz7"
      },
      "outputs": [],
      "source": [
        "# i. string\n",
        "name = \"Manish\""
      ]
    },
    {
      "cell_type": "code",
      "source": [
        "# ii. list\n",
        "list1 = [23, 234.5, 4 + 5j, True, \"man\"]"
      ],
      "metadata": {
        "id": "pWBWlGCNdT0h"
      },
      "execution_count": 2,
      "outputs": []
    },
    {
      "cell_type": "code",
      "source": [
        "# iii. float\n",
        "f = 78.90"
      ],
      "metadata": {
        "id": "Hd41SBtDdvdd"
      },
      "execution_count": 3,
      "outputs": []
    },
    {
      "cell_type": "code",
      "source": [
        "# iv. tuple\n",
        "t = (34, 45, 23, 9.0)\n",
        "type(t)"
      ],
      "metadata": {
        "colab": {
          "base_uri": "https://localhost:8080/"
        },
        "id": "O8HvfCi0dzh4",
        "outputId": "e184b79f-664e-4c94-f26e-f7fa6de4c7c5"
      },
      "execution_count": 4,
      "outputs": [
        {
          "output_type": "execute_result",
          "data": {
            "text/plain": [
              "tuple"
            ]
          },
          "metadata": {},
          "execution_count": 4
        }
      ]
    },
    {
      "cell_type": "markdown",
      "source": [
        "Q2. Given are some following variables containing data:"
      ],
      "metadata": {
        "id": "pU4hGXmseOZ_"
      }
    },
    {
      "cell_type": "code",
      "source": [
        "# ans: i. str\n",
        "# ii. str\n",
        "# iii. list\n",
        "# iv. int"
      ],
      "metadata": {
        "id": "V2K4a8xueqHT"
      },
      "execution_count": 5,
      "outputs": []
    },
    {
      "cell_type": "markdown",
      "source": [
        "Q3. Explain the use of the following operators using an example:"
      ],
      "metadata": {
        "id": "sEiqzM0sfD20"
      }
    },
    {
      "cell_type": "markdown",
      "source": [
        "\n",
        "*  **/** : Give quotient of two numbers in decimal value (float)\n",
        "  ex. 30 / 5 = 6.0\n",
        "*  **%** : Give the remainder of two number\n",
        "  ex. 30 % 5 = 0\n",
        "*  **//** : Give quotient of two number in integer value (int)\n",
        "  ex. 4 // 3 = 1\n",
        "*   ** : Calculate exponential value or power\n",
        "  ex. 3**2 = 9\n",
        "\n",
        "\n",
        "\n",
        "\n",
        "\n"
      ],
      "metadata": {
        "id": "_1ol2rLPfImf"
      }
    },
    {
      "cell_type": "markdown",
      "source": [
        "Q4. Create a list of length 10 of your choice containing multiple types of data. Using for loop print the\n",
        "element and its data type."
      ],
      "metadata": {
        "id": "-HaVMcsPhWTX"
      }
    },
    {
      "cell_type": "code",
      "source": [
        "list1 = [2, 12.4, 'Manish', 2003, '1803', 'ds', 3 + 4j, 23.67, True, 69]\n",
        "for i in list1:\n",
        "  print(i)\n",
        "  print(type(i))"
      ],
      "metadata": {
        "colab": {
          "base_uri": "https://localhost:8080/"
        },
        "id": "JjCOOTIXe8T4",
        "outputId": "7338e9a7-0c46-487b-b0ba-e271fa2c93b6"
      },
      "execution_count": 6,
      "outputs": [
        {
          "output_type": "stream",
          "name": "stdout",
          "text": [
            "2\n",
            "<class 'int'>\n",
            "12.4\n",
            "<class 'float'>\n",
            "Manish\n",
            "<class 'str'>\n",
            "2003\n",
            "<class 'int'>\n",
            "1803\n",
            "<class 'str'>\n",
            "ds\n",
            "<class 'str'>\n",
            "(3+4j)\n",
            "<class 'complex'>\n",
            "23.67\n",
            "<class 'float'>\n",
            "True\n",
            "<class 'bool'>\n",
            "69\n",
            "<class 'int'>\n"
          ]
        }
      ]
    },
    {
      "cell_type": "markdown",
      "source": [
        "Q5. Using a while loop, verify if the number A is purely divisible by number B and if so then how many\n",
        "times it can be divisible."
      ],
      "metadata": {
        "id": "QE_ex0phiKjp"
      }
    },
    {
      "cell_type": "code",
      "source": [
        "count = 0\n",
        "numA = int(input('Enter value for numA: '))\n",
        "numB = int(input('Enter value for numB: '))\n",
        "while numA >= numB and numA % numB == 0:\n",
        "  count += 1\n",
        "  numA /= numB\n",
        "else:\n",
        "  print(count)"
      ],
      "metadata": {
        "colab": {
          "base_uri": "https://localhost:8080/"
        },
        "id": "vx_eJ-CKiDvX",
        "outputId": "624a508b-d33b-4c9d-ef95-7c4cc7db6e57"
      },
      "execution_count": 7,
      "outputs": [
        {
          "output_type": "stream",
          "name": "stdout",
          "text": [
            "Enter value for numA: 25\n",
            "Enter value for numB: 5\n",
            "2\n"
          ]
        }
      ]
    },
    {
      "cell_type": "markdown",
      "source": [
        "Q6. Create a list containing 25 int type data. Using for loop and if-else condition print if the element is\n",
        "divisible by 3 or not."
      ],
      "metadata": {
        "id": "DbBEL2xgjEaM"
      }
    },
    {
      "cell_type": "code",
      "source": [
        "list1 = []\n",
        "for i in range(1, 26):\n",
        "  list1.append(i)"
      ],
      "metadata": {
        "id": "FbwL_Tiai3sq"
      },
      "execution_count": 8,
      "outputs": []
    },
    {
      "cell_type": "code",
      "source": [
        "list1"
      ],
      "metadata": {
        "colab": {
          "base_uri": "https://localhost:8080/"
        },
        "id": "qm69u6FpjZd7",
        "outputId": "64875584-b7f1-4970-b0c8-1f4ea8361a6c"
      },
      "execution_count": 9,
      "outputs": [
        {
          "output_type": "execute_result",
          "data": {
            "text/plain": [
              "[1,\n",
              " 2,\n",
              " 3,\n",
              " 4,\n",
              " 5,\n",
              " 6,\n",
              " 7,\n",
              " 8,\n",
              " 9,\n",
              " 10,\n",
              " 11,\n",
              " 12,\n",
              " 13,\n",
              " 14,\n",
              " 15,\n",
              " 16,\n",
              " 17,\n",
              " 18,\n",
              " 19,\n",
              " 20,\n",
              " 21,\n",
              " 22,\n",
              " 23,\n",
              " 24,\n",
              " 25]"
            ]
          },
          "metadata": {},
          "execution_count": 9
        }
      ]
    },
    {
      "cell_type": "code",
      "source": [
        "for i in list1:\n",
        "  if i % 3 == 0:\n",
        "    print(str(i)+' is divisible by 3.')\n",
        "  else:\n",
        "    print(str(i)+' is not divisible by 3.')"
      ],
      "metadata": {
        "colab": {
          "base_uri": "https://localhost:8080/"
        },
        "id": "hkNl6lRfja7k",
        "outputId": "b0ade0fc-afaf-4331-9c7c-bb92efe63ced"
      },
      "execution_count": 10,
      "outputs": [
        {
          "output_type": "stream",
          "name": "stdout",
          "text": [
            "1 is not divisible by 3.\n",
            "2 is not divisible by 3.\n",
            "3 is divisible by 3.\n",
            "4 is not divisible by 3.\n",
            "5 is not divisible by 3.\n",
            "6 is divisible by 3.\n",
            "7 is not divisible by 3.\n",
            "8 is not divisible by 3.\n",
            "9 is divisible by 3.\n",
            "10 is not divisible by 3.\n",
            "11 is not divisible by 3.\n",
            "12 is divisible by 3.\n",
            "13 is not divisible by 3.\n",
            "14 is not divisible by 3.\n",
            "15 is divisible by 3.\n",
            "16 is not divisible by 3.\n",
            "17 is not divisible by 3.\n",
            "18 is divisible by 3.\n",
            "19 is not divisible by 3.\n",
            "20 is not divisible by 3.\n",
            "21 is divisible by 3.\n",
            "22 is not divisible by 3.\n",
            "23 is not divisible by 3.\n",
            "24 is divisible by 3.\n",
            "25 is not divisible by 3.\n"
          ]
        }
      ]
    },
    {
      "cell_type": "markdown",
      "source": [
        "Q7. What do you understand about mutable and immutable data types? Give examples for both showing\n",
        "this property."
      ],
      "metadata": {
        "id": "ym7R-VKikO23"
      }
    },
    {
      "cell_type": "code",
      "source": [
        "'''\n",
        "  Mutable: change the value of particular index in collection\n",
        "  Immutable: it can't change value\n",
        "'''\n",
        "# str, tuple - immutable\n",
        "# list - mutable\n",
        "list2 = [23, 39.4, 'Manish', True, 7 + 3j]"
      ],
      "metadata": {
        "id": "l-BMKDH8j4Ii"
      },
      "execution_count": 11,
      "outputs": []
    },
    {
      "cell_type": "code",
      "source": [
        "list2"
      ],
      "metadata": {
        "colab": {
          "base_uri": "https://localhost:8080/"
        },
        "id": "mHO1d9wWkf82",
        "outputId": "cb75a4d3-5a64-4250-9a6e-30d9b208df65"
      },
      "execution_count": 12,
      "outputs": [
        {
          "output_type": "execute_result",
          "data": {
            "text/plain": [
              "[23, 39.4, 'Manish', True, (7+3j)]"
            ]
          },
          "metadata": {},
          "execution_count": 12
        }
      ]
    },
    {
      "cell_type": "code",
      "source": [
        "list2[-2] = 'Patil'"
      ],
      "metadata": {
        "id": "ltaAAo4ck0Q4"
      },
      "execution_count": 13,
      "outputs": []
    },
    {
      "cell_type": "code",
      "source": [
        "list2"
      ],
      "metadata": {
        "colab": {
          "base_uri": "https://localhost:8080/"
        },
        "id": "yxzom6nqk4Rp",
        "outputId": "d27afb28-bac4-4feb-fbed-54ce540edad1"
      },
      "execution_count": 14,
      "outputs": [
        {
          "output_type": "execute_result",
          "data": {
            "text/plain": [
              "[23, 39.4, 'Manish', 'Patil', (7+3j)]"
            ]
          },
          "metadata": {},
          "execution_count": 14
        }
      ]
    },
    {
      "cell_type": "code",
      "source": [
        "# immutable\n",
        "str1 = 'Manish'\n",
        "str1"
      ],
      "metadata": {
        "colab": {
          "base_uri": "https://localhost:8080/",
          "height": 35
        },
        "id": "mVlG-Jilk5Mm",
        "outputId": "b3d5cc49-d7d4-4a5b-81d0-a9c1fadc7c21"
      },
      "execution_count": 15,
      "outputs": [
        {
          "output_type": "execute_result",
          "data": {
            "text/plain": [
              "'Manish'"
            ],
            "application/vnd.google.colaboratory.intrinsic+json": {
              "type": "string"
            }
          },
          "metadata": {},
          "execution_count": 15
        }
      ]
    },
    {
      "cell_type": "code",
      "source": [
        "str1[-1]"
      ],
      "metadata": {
        "colab": {
          "base_uri": "https://localhost:8080/",
          "height": 35
        },
        "id": "Gh6-ykE0lISl",
        "outputId": "974ce0b7-0a38-4632-a180-2ae3f0d69e6b"
      },
      "execution_count": 16,
      "outputs": [
        {
          "output_type": "execute_result",
          "data": {
            "text/plain": [
              "'h'"
            ],
            "application/vnd.google.colaboratory.intrinsic+json": {
              "type": "string"
            }
          },
          "metadata": {},
          "execution_count": 16
        }
      ]
    },
    {
      "cell_type": "code",
      "source": [
        "str1[-1] = 'r'"
      ],
      "metadata": {
        "colab": {
          "base_uri": "https://localhost:8080/",
          "height": 214
        },
        "id": "6gk4uhPplKfA",
        "outputId": "371a211b-a473-4faf-87db-28f030e1724f"
      },
      "execution_count": 18,
      "outputs": [
        {
          "output_type": "error",
          "ename": "TypeError",
          "evalue": "ignored",
          "traceback": [
            "\u001b[0;31m---------------------------------------------------------------------------\u001b[0m",
            "\u001b[0;31mTypeError\u001b[0m                                 Traceback (most recent call last)",
            "\u001b[0;32m<ipython-input-18-c1f34fbf24d0>\u001b[0m in \u001b[0;36m<cell line: 1>\u001b[0;34m()\u001b[0m\n\u001b[0;32m----> 1\u001b[0;31m \u001b[0mstr1\u001b[0m\u001b[0;34m[\u001b[0m\u001b[0;34m-\u001b[0m\u001b[0;36m1\u001b[0m\u001b[0;34m]\u001b[0m \u001b[0;34m=\u001b[0m \u001b[0;34m'r'\u001b[0m\u001b[0;34m\u001b[0m\u001b[0;34m\u001b[0m\u001b[0m\n\u001b[0m",
            "\u001b[0;31mTypeError\u001b[0m: 'str' object does not support item assignment"
          ]
        }
      ]
    },
    {
      "cell_type": "code",
      "source": [
        "# if assign new value to an existing variable then new object is created with new value. just like\n",
        "str1 = 'Patil'\n",
        "str1"
      ],
      "metadata": {
        "colab": {
          "base_uri": "https://localhost:8080/",
          "height": 35
        },
        "id": "F2BVehoSlQ_B",
        "outputId": "1990d6c0-4dbd-4bd1-bcdb-b862cf8efdf7"
      },
      "execution_count": 19,
      "outputs": [
        {
          "output_type": "execute_result",
          "data": {
            "text/plain": [
              "'Patil'"
            ],
            "application/vnd.google.colaboratory.intrinsic+json": {
              "type": "string"
            }
          },
          "metadata": {},
          "execution_count": 19
        }
      ]
    },
    {
      "cell_type": "code",
      "source": [
        "# tuple\n",
        "t = (23, 45, 4.3, 6 + 5j)"
      ],
      "metadata": {
        "id": "g69pEFbqlsMX"
      },
      "execution_count": 20,
      "outputs": []
    },
    {
      "cell_type": "code",
      "source": [
        "t[2]"
      ],
      "metadata": {
        "colab": {
          "base_uri": "https://localhost:8080/"
        },
        "id": "DYE8eZJvlyXC",
        "outputId": "1cc5e9cf-189e-41f5-eb25-b4399f82a3ef"
      },
      "execution_count": 21,
      "outputs": [
        {
          "output_type": "execute_result",
          "data": {
            "text/plain": [
              "4.3"
            ]
          },
          "metadata": {},
          "execution_count": 21
        }
      ]
    },
    {
      "cell_type": "code",
      "source": [
        "t[2] = 34"
      ],
      "metadata": {
        "colab": {
          "base_uri": "https://localhost:8080/",
          "height": 214
        },
        "id": "8Hcgarg-l0Ol",
        "outputId": "2214ea28-278e-4f49-a64b-e1592c23e437"
      },
      "execution_count": 22,
      "outputs": [
        {
          "output_type": "error",
          "ename": "TypeError",
          "evalue": "ignored",
          "traceback": [
            "\u001b[0;31m---------------------------------------------------------------------------\u001b[0m",
            "\u001b[0;31mTypeError\u001b[0m                                 Traceback (most recent call last)",
            "\u001b[0;32m<ipython-input-22-411818212505>\u001b[0m in \u001b[0;36m<cell line: 1>\u001b[0;34m()\u001b[0m\n\u001b[0;32m----> 1\u001b[0;31m \u001b[0mt\u001b[0m\u001b[0;34m[\u001b[0m\u001b[0;36m2\u001b[0m\u001b[0;34m]\u001b[0m \u001b[0;34m=\u001b[0m \u001b[0;36m34\u001b[0m\u001b[0;34m\u001b[0m\u001b[0;34m\u001b[0m\u001b[0m\n\u001b[0m",
            "\u001b[0;31mTypeError\u001b[0m: 'tuple' object does not support item assignment"
          ]
        }
      ]
    },
    {
      "cell_type": "code",
      "source": [
        "# tuple is also immutable data type."
      ],
      "metadata": {
        "id": "65jvla0al3Yo"
      },
      "execution_count": 23,
      "outputs": []
    },
    {
      "cell_type": "code",
      "source": [],
      "metadata": {
        "id": "v51K6Tp8mT4f"
      },
      "execution_count": null,
      "outputs": []
    }
  ]
}